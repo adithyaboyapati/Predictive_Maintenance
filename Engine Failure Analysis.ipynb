{
 "cells": [
  {
   "cell_type": "code",
   "execution_count": 1,
   "metadata": {},
   "outputs": [],
   "source": [
    "import pandas as pd\n",
    "import numpy as np\n",
    "import matplotlib.pyplot as plt\n",
    "%matplotlib inline\n",
    "import warnings\n",
    "warnings.filterwarnings(\"ignore\")"
   ]
  },
  {
   "cell_type": "code",
   "execution_count": 3,
   "metadata": {},
   "outputs": [],
   "source": [
    "#Reading the CSV file\n",
    "df = pd.read_csv('aps_failure_training.csv')"
   ]
  },
  {
   "cell_type": "code",
   "execution_count": 4,
   "metadata": {},
   "outputs": [
    {
     "data": {
      "text/html": [
       "<div>\n",
       "<style scoped>\n",
       "    .dataframe tbody tr th:only-of-type {\n",
       "        vertical-align: middle;\n",
       "    }\n",
       "\n",
       "    .dataframe tbody tr th {\n",
       "        vertical-align: top;\n",
       "    }\n",
       "\n",
       "    .dataframe thead th {\n",
       "        text-align: right;\n",
       "    }\n",
       "</style>\n",
       "<table border=\"1\" class=\"dataframe\">\n",
       "  <thead>\n",
       "    <tr style=\"text-align: right;\">\n",
       "      <th></th>\n",
       "      <th>class</th>\n",
       "      <th>aa_000</th>\n",
       "      <th>ab_000</th>\n",
       "      <th>ac_000</th>\n",
       "      <th>ad_000</th>\n",
       "      <th>ae_000</th>\n",
       "      <th>af_000</th>\n",
       "      <th>ag_000</th>\n",
       "      <th>ag_001</th>\n",
       "      <th>ag_002</th>\n",
       "      <th>...</th>\n",
       "      <th>ee_002</th>\n",
       "      <th>ee_003</th>\n",
       "      <th>ee_004</th>\n",
       "      <th>ee_005</th>\n",
       "      <th>ee_006</th>\n",
       "      <th>ee_007</th>\n",
       "      <th>ee_008</th>\n",
       "      <th>ee_009</th>\n",
       "      <th>ef_000</th>\n",
       "      <th>eg_000</th>\n",
       "    </tr>\n",
       "  </thead>\n",
       "  <tbody>\n",
       "    <tr>\n",
       "      <th>0</th>\n",
       "      <td>neg</td>\n",
       "      <td>76698</td>\n",
       "      <td>na</td>\n",
       "      <td>2130706438</td>\n",
       "      <td>280</td>\n",
       "      <td>0</td>\n",
       "      <td>0</td>\n",
       "      <td>0</td>\n",
       "      <td>0</td>\n",
       "      <td>0</td>\n",
       "      <td>...</td>\n",
       "      <td>1240520</td>\n",
       "      <td>493384</td>\n",
       "      <td>721044</td>\n",
       "      <td>469792</td>\n",
       "      <td>339156</td>\n",
       "      <td>157956</td>\n",
       "      <td>73224</td>\n",
       "      <td>0</td>\n",
       "      <td>0</td>\n",
       "      <td>0</td>\n",
       "    </tr>\n",
       "    <tr>\n",
       "      <th>1</th>\n",
       "      <td>neg</td>\n",
       "      <td>33058</td>\n",
       "      <td>na</td>\n",
       "      <td>0</td>\n",
       "      <td>na</td>\n",
       "      <td>0</td>\n",
       "      <td>0</td>\n",
       "      <td>0</td>\n",
       "      <td>0</td>\n",
       "      <td>0</td>\n",
       "      <td>...</td>\n",
       "      <td>421400</td>\n",
       "      <td>178064</td>\n",
       "      <td>293306</td>\n",
       "      <td>245416</td>\n",
       "      <td>133654</td>\n",
       "      <td>81140</td>\n",
       "      <td>97576</td>\n",
       "      <td>1500</td>\n",
       "      <td>0</td>\n",
       "      <td>0</td>\n",
       "    </tr>\n",
       "    <tr>\n",
       "      <th>2</th>\n",
       "      <td>neg</td>\n",
       "      <td>41040</td>\n",
       "      <td>na</td>\n",
       "      <td>228</td>\n",
       "      <td>100</td>\n",
       "      <td>0</td>\n",
       "      <td>0</td>\n",
       "      <td>0</td>\n",
       "      <td>0</td>\n",
       "      <td>0</td>\n",
       "      <td>...</td>\n",
       "      <td>277378</td>\n",
       "      <td>159812</td>\n",
       "      <td>423992</td>\n",
       "      <td>409564</td>\n",
       "      <td>320746</td>\n",
       "      <td>158022</td>\n",
       "      <td>95128</td>\n",
       "      <td>514</td>\n",
       "      <td>0</td>\n",
       "      <td>0</td>\n",
       "    </tr>\n",
       "    <tr>\n",
       "      <th>3</th>\n",
       "      <td>neg</td>\n",
       "      <td>12</td>\n",
       "      <td>0</td>\n",
       "      <td>70</td>\n",
       "      <td>66</td>\n",
       "      <td>0</td>\n",
       "      <td>10</td>\n",
       "      <td>0</td>\n",
       "      <td>0</td>\n",
       "      <td>0</td>\n",
       "      <td>...</td>\n",
       "      <td>240</td>\n",
       "      <td>46</td>\n",
       "      <td>58</td>\n",
       "      <td>44</td>\n",
       "      <td>10</td>\n",
       "      <td>0</td>\n",
       "      <td>0</td>\n",
       "      <td>0</td>\n",
       "      <td>4</td>\n",
       "      <td>32</td>\n",
       "    </tr>\n",
       "    <tr>\n",
       "      <th>4</th>\n",
       "      <td>neg</td>\n",
       "      <td>60874</td>\n",
       "      <td>na</td>\n",
       "      <td>1368</td>\n",
       "      <td>458</td>\n",
       "      <td>0</td>\n",
       "      <td>0</td>\n",
       "      <td>0</td>\n",
       "      <td>0</td>\n",
       "      <td>0</td>\n",
       "      <td>...</td>\n",
       "      <td>622012</td>\n",
       "      <td>229790</td>\n",
       "      <td>405298</td>\n",
       "      <td>347188</td>\n",
       "      <td>286954</td>\n",
       "      <td>311560</td>\n",
       "      <td>433954</td>\n",
       "      <td>1218</td>\n",
       "      <td>0</td>\n",
       "      <td>0</td>\n",
       "    </tr>\n",
       "  </tbody>\n",
       "</table>\n",
       "<p>5 rows × 171 columns</p>\n",
       "</div>"
      ],
      "text/plain": [
       "  class  aa_000 ab_000      ac_000 ad_000 ae_000 af_000 ag_000 ag_001 ag_002  \\\n",
       "0   neg   76698     na  2130706438    280      0      0      0      0      0   \n",
       "1   neg   33058     na           0     na      0      0      0      0      0   \n",
       "2   neg   41040     na         228    100      0      0      0      0      0   \n",
       "3   neg      12      0          70     66      0     10      0      0      0   \n",
       "4   neg   60874     na        1368    458      0      0      0      0      0   \n",
       "\n",
       "   ...   ee_002  ee_003  ee_004  ee_005  ee_006  ee_007  ee_008 ee_009 ef_000  \\\n",
       "0  ...  1240520  493384  721044  469792  339156  157956   73224      0      0   \n",
       "1  ...   421400  178064  293306  245416  133654   81140   97576   1500      0   \n",
       "2  ...   277378  159812  423992  409564  320746  158022   95128    514      0   \n",
       "3  ...      240      46      58      44      10       0       0      0      4   \n",
       "4  ...   622012  229790  405298  347188  286954  311560  433954   1218      0   \n",
       "\n",
       "  eg_000  \n",
       "0      0  \n",
       "1      0  \n",
       "2      0  \n",
       "3     32  \n",
       "4      0  \n",
       "\n",
       "[5 rows x 171 columns]"
      ]
     },
     "execution_count": 4,
     "metadata": {},
     "output_type": "execute_result"
    }
   ],
   "source": [
    "df.head()"
   ]
  },
  {
   "cell_type": "code",
   "execution_count": 5,
   "metadata": {},
   "outputs": [
    {
     "data": {
      "text/html": [
       "<div>\n",
       "<style scoped>\n",
       "    .dataframe tbody tr th:only-of-type {\n",
       "        vertical-align: middle;\n",
       "    }\n",
       "\n",
       "    .dataframe tbody tr th {\n",
       "        vertical-align: top;\n",
       "    }\n",
       "\n",
       "    .dataframe thead th {\n",
       "        text-align: right;\n",
       "    }\n",
       "</style>\n",
       "<table border=\"1\" class=\"dataframe\">\n",
       "  <thead>\n",
       "    <tr style=\"text-align: right;\">\n",
       "      <th></th>\n",
       "      <th>count</th>\n",
       "      <th>unique</th>\n",
       "      <th>top</th>\n",
       "      <th>freq</th>\n",
       "      <th>mean</th>\n",
       "      <th>std</th>\n",
       "      <th>min</th>\n",
       "      <th>25%</th>\n",
       "      <th>50%</th>\n",
       "      <th>75%</th>\n",
       "      <th>max</th>\n",
       "    </tr>\n",
       "  </thead>\n",
       "  <tbody>\n",
       "    <tr>\n",
       "      <th>class</th>\n",
       "      <td>5910</td>\n",
       "      <td>2</td>\n",
       "      <td>neg</td>\n",
       "      <td>4910</td>\n",
       "      <td>NaN</td>\n",
       "      <td>NaN</td>\n",
       "      <td>NaN</td>\n",
       "      <td>NaN</td>\n",
       "      <td>NaN</td>\n",
       "      <td>NaN</td>\n",
       "      <td>NaN</td>\n",
       "    </tr>\n",
       "    <tr>\n",
       "      <th>aa_000</th>\n",
       "      <td>5910</td>\n",
       "      <td>NaN</td>\n",
       "      <td>NaN</td>\n",
       "      <td>NaN</td>\n",
       "      <td>151760</td>\n",
       "      <td>304672</td>\n",
       "      <td>0</td>\n",
       "      <td>1533.5</td>\n",
       "      <td>39165</td>\n",
       "      <td>96054.5</td>\n",
       "      <td>2.74656e+06</td>\n",
       "    </tr>\n",
       "    <tr>\n",
       "      <th>ab_000</th>\n",
       "      <td>5910</td>\n",
       "      <td>13</td>\n",
       "      <td>na</td>\n",
       "      <td>4591</td>\n",
       "      <td>NaN</td>\n",
       "      <td>NaN</td>\n",
       "      <td>NaN</td>\n",
       "      <td>NaN</td>\n",
       "      <td>NaN</td>\n",
       "      <td>NaN</td>\n",
       "      <td>NaN</td>\n",
       "    </tr>\n",
       "    <tr>\n",
       "      <th>ac_000</th>\n",
       "      <td>5910</td>\n",
       "      <td>981</td>\n",
       "      <td>0</td>\n",
       "      <td>806</td>\n",
       "      <td>NaN</td>\n",
       "      <td>NaN</td>\n",
       "      <td>NaN</td>\n",
       "      <td>NaN</td>\n",
       "      <td>NaN</td>\n",
       "      <td>NaN</td>\n",
       "      <td>NaN</td>\n",
       "    </tr>\n",
       "    <tr>\n",
       "      <th>ad_000</th>\n",
       "      <td>5910</td>\n",
       "      <td>863</td>\n",
       "      <td>na</td>\n",
       "      <td>1801</td>\n",
       "      <td>NaN</td>\n",
       "      <td>NaN</td>\n",
       "      <td>NaN</td>\n",
       "      <td>NaN</td>\n",
       "      <td>NaN</td>\n",
       "      <td>NaN</td>\n",
       "      <td>NaN</td>\n",
       "    </tr>\n",
       "    <tr>\n",
       "      <th>...</th>\n",
       "      <td>...</td>\n",
       "      <td>...</td>\n",
       "      <td>...</td>\n",
       "      <td>...</td>\n",
       "      <td>...</td>\n",
       "      <td>...</td>\n",
       "      <td>...</td>\n",
       "      <td>...</td>\n",
       "      <td>...</td>\n",
       "      <td>...</td>\n",
       "      <td>...</td>\n",
       "    </tr>\n",
       "    <tr>\n",
       "      <th>ee_007</th>\n",
       "      <td>5910</td>\n",
       "      <td>4327</td>\n",
       "      <td>0</td>\n",
       "      <td>698</td>\n",
       "      <td>NaN</td>\n",
       "      <td>NaN</td>\n",
       "      <td>NaN</td>\n",
       "      <td>NaN</td>\n",
       "      <td>NaN</td>\n",
       "      <td>NaN</td>\n",
       "      <td>NaN</td>\n",
       "    </tr>\n",
       "    <tr>\n",
       "      <th>ee_008</th>\n",
       "      <td>5910</td>\n",
       "      <td>3679</td>\n",
       "      <td>0</td>\n",
       "      <td>1451</td>\n",
       "      <td>NaN</td>\n",
       "      <td>NaN</td>\n",
       "      <td>NaN</td>\n",
       "      <td>NaN</td>\n",
       "      <td>NaN</td>\n",
       "      <td>NaN</td>\n",
       "      <td>NaN</td>\n",
       "    </tr>\n",
       "    <tr>\n",
       "      <th>ee_009</th>\n",
       "      <td>5910</td>\n",
       "      <td>1865</td>\n",
       "      <td>0</td>\n",
       "      <td>3050</td>\n",
       "      <td>NaN</td>\n",
       "      <td>NaN</td>\n",
       "      <td>NaN</td>\n",
       "      <td>NaN</td>\n",
       "      <td>NaN</td>\n",
       "      <td>NaN</td>\n",
       "      <td>NaN</td>\n",
       "    </tr>\n",
       "    <tr>\n",
       "      <th>ef_000</th>\n",
       "      <td>5910</td>\n",
       "      <td>12</td>\n",
       "      <td>0</td>\n",
       "      <td>5299</td>\n",
       "      <td>NaN</td>\n",
       "      <td>NaN</td>\n",
       "      <td>NaN</td>\n",
       "      <td>NaN</td>\n",
       "      <td>NaN</td>\n",
       "      <td>NaN</td>\n",
       "      <td>NaN</td>\n",
       "    </tr>\n",
       "    <tr>\n",
       "      <th>eg_000</th>\n",
       "      <td>5910</td>\n",
       "      <td>26</td>\n",
       "      <td>0</td>\n",
       "      <td>5274</td>\n",
       "      <td>NaN</td>\n",
       "      <td>NaN</td>\n",
       "      <td>NaN</td>\n",
       "      <td>NaN</td>\n",
       "      <td>NaN</td>\n",
       "      <td>NaN</td>\n",
       "      <td>NaN</td>\n",
       "    </tr>\n",
       "  </tbody>\n",
       "</table>\n",
       "<p>171 rows × 11 columns</p>\n",
       "</div>"
      ],
      "text/plain": [
       "       count unique  top  freq    mean     std  min     25%    50%      75%  \\\n",
       "class   5910      2  neg  4910     NaN     NaN  NaN     NaN    NaN      NaN   \n",
       "aa_000  5910    NaN  NaN   NaN  151760  304672    0  1533.5  39165  96054.5   \n",
       "ab_000  5910     13   na  4591     NaN     NaN  NaN     NaN    NaN      NaN   \n",
       "ac_000  5910    981    0   806     NaN     NaN  NaN     NaN    NaN      NaN   \n",
       "ad_000  5910    863   na  1801     NaN     NaN  NaN     NaN    NaN      NaN   \n",
       "...      ...    ...  ...   ...     ...     ...  ...     ...    ...      ...   \n",
       "ee_007  5910   4327    0   698     NaN     NaN  NaN     NaN    NaN      NaN   \n",
       "ee_008  5910   3679    0  1451     NaN     NaN  NaN     NaN    NaN      NaN   \n",
       "ee_009  5910   1865    0  3050     NaN     NaN  NaN     NaN    NaN      NaN   \n",
       "ef_000  5910     12    0  5299     NaN     NaN  NaN     NaN    NaN      NaN   \n",
       "eg_000  5910     26    0  5274     NaN     NaN  NaN     NaN    NaN      NaN   \n",
       "\n",
       "                max  \n",
       "class           NaN  \n",
       "aa_000  2.74656e+06  \n",
       "ab_000          NaN  \n",
       "ac_000          NaN  \n",
       "ad_000          NaN  \n",
       "...             ...  \n",
       "ee_007          NaN  \n",
       "ee_008          NaN  \n",
       "ee_009          NaN  \n",
       "ef_000          NaN  \n",
       "eg_000          NaN  \n",
       "\n",
       "[171 rows x 11 columns]"
      ]
     },
     "execution_count": 5,
     "metadata": {},
     "output_type": "execute_result"
    }
   ],
   "source": [
    "df.describe(include = 'all').T"
   ]
  },
  {
   "cell_type": "code",
   "execution_count": 6,
   "metadata": {},
   "outputs": [
    {
     "data": {
      "text/plain": [
       "Index(['class', 'aa_000', 'ab_000', 'ac_000', 'ad_000', 'ae_000', 'af_000',\n",
       "       'ag_000', 'ag_001', 'ag_002',\n",
       "       ...\n",
       "       'ee_002', 'ee_003', 'ee_004', 'ee_005', 'ee_006', 'ee_007', 'ee_008',\n",
       "       'ee_009', 'ef_000', 'eg_000'],\n",
       "      dtype='object', length=171)"
      ]
     },
     "execution_count": 6,
     "metadata": {},
     "output_type": "execute_result"
    }
   ],
   "source": [
    "df.columns"
   ]
  },
  {
   "cell_type": "code",
   "execution_count": 7,
   "metadata": {},
   "outputs": [
    {
     "name": "stdout",
     "output_type": "stream",
     "text": [
      "<class 'pandas.core.frame.DataFrame'>\n",
      "RangeIndex: 5910 entries, 0 to 5909\n",
      "Columns: 171 entries, class to eg_000\n",
      "dtypes: int64(1), object(170)\n",
      "memory usage: 7.7+ MB\n"
     ]
    }
   ],
   "source": [
    "df.info()"
   ]
  },
  {
   "cell_type": "code",
   "execution_count": 8,
   "metadata": {},
   "outputs": [
    {
     "data": {
      "text/plain": [
       "(5910, 171)"
      ]
     },
     "execution_count": 8,
     "metadata": {},
     "output_type": "execute_result"
    }
   ],
   "source": [
    "df.shape"
   ]
  },
  {
   "cell_type": "code",
   "execution_count": 9,
   "metadata": {},
   "outputs": [],
   "source": [
    "# As the null values are replaced with na so filling those values with np.nan \n",
    "df.replace('na',np.NaN, inplace=True)"
   ]
  },
  {
   "cell_type": "code",
   "execution_count": 10,
   "metadata": {},
   "outputs": [
    {
     "name": "stdout",
     "output_type": "stream",
     "text": [
      "['ab_000', 'ac_000', 'ad_000', 'ae_000', 'af_000', 'ag_000', 'ag_001', 'ag_002', 'ag_003', 'ag_004', 'ag_005', 'ag_006', 'ag_007', 'ag_008', 'ag_009', 'ah_000', 'ai_000', 'aj_000', 'ak_000', 'al_000', 'am_0', 'an_000', 'ao_000', 'ap_000', 'aq_000', 'ar_000', 'as_000', 'at_000', 'au_000', 'av_000', 'ax_000', 'ay_000', 'ay_001', 'ay_002', 'ay_003', 'ay_004', 'ay_005', 'ay_006', 'ay_007', 'ay_008', 'ay_009', 'az_000', 'az_001', 'az_002', 'az_003', 'az_004', 'az_005', 'az_006', 'az_007', 'az_008', 'az_009', 'ba_000', 'ba_001', 'ba_002', 'ba_003', 'ba_004', 'ba_005', 'ba_006', 'ba_007', 'ba_008', 'ba_009', 'bb_000', 'bc_000', 'bd_000', 'be_000', 'bf_000', 'bg_000', 'bh_000', 'bi_000', 'bj_000', 'bk_000', 'bl_000', 'bm_000', 'bn_000', 'bo_000', 'bp_000', 'bq_000', 'br_000', 'bs_000', 'bt_000', 'bu_000', 'bv_000', 'bx_000', 'by_000', 'bz_000', 'ca_000', 'cb_000', 'cc_000', 'cd_000', 'ce_000', 'cf_000', 'cg_000', 'ch_000', 'ci_000', 'cj_000', 'ck_000', 'cl_000', 'cm_000', 'cn_000', 'cn_001', 'cn_002', 'cn_003', 'cn_004', 'cn_005', 'cn_006', 'cn_007', 'cn_008', 'cn_009', 'co_000', 'cp_000', 'cq_000', 'cr_000', 'cs_000', 'cs_001', 'cs_002', 'cs_003', 'cs_004', 'cs_005', 'cs_006', 'cs_007', 'cs_008', 'cs_009', 'ct_000', 'cu_000', 'cv_000', 'cx_000', 'cy_000', 'cz_000', 'da_000', 'db_000', 'dc_000', 'dd_000', 'de_000', 'df_000', 'dg_000', 'dh_000', 'di_000', 'dj_000', 'dk_000', 'dl_000', 'dm_000', 'dn_000', 'do_000', 'dp_000', 'dq_000', 'dr_000', 'ds_000', 'dt_000', 'du_000', 'dv_000', 'dx_000', 'dy_000', 'dz_000', 'ea_000', 'eb_000', 'ec_00', 'ed_000', 'ee_000', 'ee_001', 'ee_002', 'ee_003', 'ee_004', 'ee_005', 'ee_006', 'ee_007', 'ee_008', 'ee_009', 'ef_000', 'eg_000']\n"
     ]
    }
   ],
   "source": [
    "#Checking the Null values columns\n",
    "l = []\n",
    "for i in df.columns:\n",
    "    if df[i].isnull().sum()>0:\n",
    "        l.append(i)\n",
    "print(l)       "
   ]
  },
  {
   "cell_type": "code",
   "execution_count": 11,
   "metadata": {},
   "outputs": [
    {
     "name": "stdout",
     "output_type": "stream",
     "text": [
      "ab_000 : 4591\n",
      "ac_000 : 711\n",
      "ad_000 : 1801\n",
      "ae_000 : 518\n",
      "af_000 : 518\n",
      "ag_000 : 68\n",
      "ag_001 : 68\n",
      "ag_002 : 68\n",
      "ag_003 : 68\n",
      "ag_004 : 68\n",
      "ag_005 : 68\n",
      "ag_006 : 68\n",
      "ag_007 : 68\n",
      "ag_008 : 68\n",
      "ag_009 : 68\n",
      "ah_000 : 93\n",
      "ai_000 : 85\n",
      "aj_000 : 85\n",
      "ak_000 : 864\n",
      "al_000 : 93\n",
      "am_0 : 85\n",
      "an_000 : 93\n",
      "ao_000 : 83\n",
      "ap_000 : 93\n",
      "aq_000 : 83\n",
      "ar_000 : 573\n",
      "as_000 : 85\n",
      "at_000 : 85\n",
      "au_000 : 85\n",
      "av_000 : 518\n",
      "ax_000 : 518\n",
      "ay_000 : 69\n",
      "ay_001 : 69\n",
      "ay_002 : 69\n",
      "ay_003 : 69\n",
      "ay_004 : 69\n",
      "ay_005 : 69\n",
      "ay_006 : 69\n",
      "ay_007 : 69\n",
      "ay_008 : 69\n",
      "ay_009 : 69\n",
      "az_000 : 69\n",
      "az_001 : 69\n",
      "az_002 : 69\n",
      "az_003 : 69\n",
      "az_004 : 69\n",
      "az_005 : 69\n",
      "az_006 : 69\n",
      "az_007 : 69\n",
      "az_008 : 69\n",
      "az_009 : 69\n",
      "ba_000 : 70\n",
      "ba_001 : 70\n",
      "ba_002 : 70\n",
      "ba_003 : 70\n",
      "ba_004 : 70\n",
      "ba_005 : 70\n",
      "ba_006 : 70\n",
      "ba_007 : 70\n",
      "ba_008 : 70\n",
      "ba_009 : 70\n",
      "bb_000 : 93\n",
      "bc_000 : 573\n",
      "bd_000 : 573\n",
      "be_000 : 518\n",
      "bf_000 : 518\n",
      "bg_000 : 93\n",
      "bh_000 : 93\n",
      "bi_000 : 83\n",
      "bj_000 : 83\n",
      "bk_000 : 1921\n",
      "bl_000 : 2277\n",
      "bm_000 : 3319\n",
      "bn_000 : 3717\n",
      "bo_000 : 3934\n",
      "bp_000 : 4064\n",
      "bq_000 : 4139\n",
      "br_000 : 4189\n",
      "bs_000 : 104\n",
      "bt_000 : 25\n",
      "bu_000 : 99\n",
      "bv_000 : 99\n",
      "bx_000 : 307\n",
      "by_000 : 40\n",
      "bz_000 : 573\n",
      "ca_000 : 860\n",
      "cb_000 : 104\n",
      "cc_000 : 306\n",
      "cd_000 : 98\n",
      "ce_000 : 518\n",
      "cf_000 : 1801\n",
      "cg_000 : 1801\n",
      "ch_000 : 1801\n",
      "ci_000 : 46\n",
      "cj_000 : 46\n",
      "ck_000 : 46\n",
      "cl_000 : 986\n",
      "cm_000 : 1074\n",
      "cn_000 : 70\n",
      "cn_001 : 70\n",
      "cn_002 : 70\n",
      "cn_003 : 70\n",
      "cn_004 : 70\n",
      "cn_005 : 70\n",
      "cn_006 : 70\n",
      "cn_007 : 70\n",
      "cn_008 : 70\n",
      "cn_009 : 70\n",
      "co_000 : 1801\n",
      "cp_000 : 573\n",
      "cq_000 : 99\n",
      "cr_000 : 4591\n",
      "cs_000 : 68\n",
      "cs_001 : 68\n",
      "cs_002 : 68\n",
      "cs_003 : 68\n",
      "cs_004 : 68\n",
      "cs_005 : 68\n",
      "cs_006 : 68\n",
      "cs_007 : 68\n",
      "cs_008 : 68\n",
      "cs_009 : 68\n",
      "ct_000 : 1612\n",
      "cu_000 : 1612\n",
      "cv_000 : 1612\n",
      "cx_000 : 1612\n",
      "cy_000 : 1612\n",
      "cz_000 : 1612\n",
      "da_000 : 1612\n",
      "db_000 : 1612\n",
      "dc_000 : 1612\n",
      "dd_000 : 518\n",
      "de_000 : 573\n",
      "df_000 : 832\n",
      "dg_000 : 832\n",
      "dh_000 : 832\n",
      "di_000 : 832\n",
      "dj_000 : 832\n",
      "dk_000 : 832\n",
      "dl_000 : 832\n",
      "dm_000 : 832\n",
      "dn_000 : 99\n",
      "do_000 : 573\n",
      "dp_000 : 573\n",
      "dq_000 : 573\n",
      "dr_000 : 573\n",
      "ds_000 : 573\n",
      "dt_000 : 573\n",
      "du_000 : 573\n",
      "dv_000 : 573\n",
      "dx_000 : 573\n",
      "dy_000 : 573\n",
      "dz_000 : 573\n",
      "ea_000 : 573\n",
      "eb_000 : 832\n",
      "ec_00 : 1118\n",
      "ed_000 : 986\n",
      "ee_000 : 69\n",
      "ee_001 : 69\n",
      "ee_002 : 69\n",
      "ee_003 : 69\n",
      "ee_004 : 69\n",
      "ee_005 : 69\n",
      "ee_006 : 69\n",
      "ee_007 : 69\n",
      "ee_008 : 69\n",
      "ee_009 : 69\n",
      "ef_000 : 573\n",
      "eg_000 : 573\n"
     ]
    }
   ],
   "source": [
    "# Checking the NUll values in each column\n",
    "for i in l:\n",
    "    print(str(i) + \" : \" + str(df[i].isnull().sum()))"
   ]
  },
  {
   "cell_type": "code",
   "execution_count": 12,
   "metadata": {},
   "outputs": [
    {
     "name": "stdout",
     "output_type": "stream",
     "text": [
      "ab_000 : 0.776818950930626\n",
      "ac_000 : 0.12030456852791878\n",
      "ad_000 : 0.3047377326565144\n",
      "ae_000 : 0.08764805414551607\n",
      "af_000 : 0.08764805414551607\n",
      "ag_000 : 0.011505922165820644\n",
      "ag_001 : 0.011505922165820644\n",
      "ag_002 : 0.011505922165820644\n",
      "ag_003 : 0.011505922165820644\n",
      "ag_004 : 0.011505922165820644\n",
      "ag_005 : 0.011505922165820644\n",
      "ag_006 : 0.011505922165820644\n",
      "ag_007 : 0.011505922165820644\n",
      "ag_008 : 0.011505922165820644\n",
      "ag_009 : 0.011505922165820644\n",
      "ah_000 : 0.015736040609137057\n",
      "ai_000 : 0.014382402707275803\n",
      "aj_000 : 0.014382402707275803\n",
      "ak_000 : 0.14619289340101524\n",
      "al_000 : 0.015736040609137057\n",
      "am_0 : 0.014382402707275803\n",
      "an_000 : 0.015736040609137057\n",
      "ao_000 : 0.01404399323181049\n",
      "ap_000 : 0.015736040609137057\n",
      "aq_000 : 0.01404399323181049\n",
      "ar_000 : 0.09695431472081219\n",
      "as_000 : 0.014382402707275803\n",
      "at_000 : 0.014382402707275803\n",
      "au_000 : 0.014382402707275803\n",
      "av_000 : 0.08764805414551607\n",
      "ax_000 : 0.08764805414551607\n",
      "ay_000 : 0.011675126903553299\n",
      "ay_001 : 0.011675126903553299\n",
      "ay_002 : 0.011675126903553299\n",
      "ay_003 : 0.011675126903553299\n",
      "ay_004 : 0.011675126903553299\n",
      "ay_005 : 0.011675126903553299\n",
      "ay_006 : 0.011675126903553299\n",
      "ay_007 : 0.011675126903553299\n",
      "ay_008 : 0.011675126903553299\n",
      "ay_009 : 0.011675126903553299\n",
      "az_000 : 0.011675126903553299\n",
      "az_001 : 0.011675126903553299\n",
      "az_002 : 0.011675126903553299\n",
      "az_003 : 0.011675126903553299\n",
      "az_004 : 0.011675126903553299\n",
      "az_005 : 0.011675126903553299\n",
      "az_006 : 0.011675126903553299\n",
      "az_007 : 0.011675126903553299\n",
      "az_008 : 0.011675126903553299\n",
      "az_009 : 0.011675126903553299\n",
      "ba_000 : 0.011844331641285956\n",
      "ba_001 : 0.011844331641285956\n",
      "ba_002 : 0.011844331641285956\n",
      "ba_003 : 0.011844331641285956\n",
      "ba_004 : 0.011844331641285956\n",
      "ba_005 : 0.011844331641285956\n",
      "ba_006 : 0.011844331641285956\n",
      "ba_007 : 0.011844331641285956\n",
      "ba_008 : 0.011844331641285956\n",
      "ba_009 : 0.011844331641285956\n",
      "bb_000 : 0.015736040609137057\n",
      "bc_000 : 0.09695431472081219\n",
      "bd_000 : 0.09695431472081219\n",
      "be_000 : 0.08764805414551607\n",
      "bf_000 : 0.08764805414551607\n",
      "bg_000 : 0.015736040609137057\n",
      "bh_000 : 0.015736040609137057\n",
      "bi_000 : 0.01404399323181049\n",
      "bj_000 : 0.01404399323181049\n",
      "bk_000 : 0.32504230118443317\n",
      "bl_000 : 0.3852791878172589\n",
      "bm_000 : 0.5615905245346869\n",
      "bn_000 : 0.6289340101522842\n",
      "bo_000 : 0.6656514382402707\n",
      "bp_000 : 0.6876480541455161\n",
      "bq_000 : 0.7003384094754653\n",
      "br_000 : 0.7087986463620981\n",
      "bs_000 : 0.017597292724196276\n",
      "bt_000 : 0.004230118443316413\n",
      "bu_000 : 0.016751269035532996\n",
      "bv_000 : 0.016751269035532996\n",
      "bx_000 : 0.05194585448392555\n",
      "by_000 : 0.00676818950930626\n",
      "bz_000 : 0.09695431472081219\n",
      "ca_000 : 0.1455160744500846\n",
      "cb_000 : 0.017597292724196276\n",
      "cc_000 : 0.05177664974619289\n",
      "cd_000 : 0.016582064297800337\n",
      "ce_000 : 0.08764805414551607\n",
      "cf_000 : 0.3047377326565144\n",
      "cg_000 : 0.3047377326565144\n",
      "ch_000 : 0.3047377326565144\n",
      "ci_000 : 0.0077834179357022\n",
      "cj_000 : 0.0077834179357022\n",
      "ck_000 : 0.0077834179357022\n",
      "cl_000 : 0.16683587140439932\n",
      "cm_000 : 0.1817258883248731\n",
      "cn_000 : 0.011844331641285956\n",
      "cn_001 : 0.011844331641285956\n",
      "cn_002 : 0.011844331641285956\n",
      "cn_003 : 0.011844331641285956\n",
      "cn_004 : 0.011844331641285956\n",
      "cn_005 : 0.011844331641285956\n",
      "cn_006 : 0.011844331641285956\n",
      "cn_007 : 0.011844331641285956\n",
      "cn_008 : 0.011844331641285956\n",
      "cn_009 : 0.011844331641285956\n",
      "co_000 : 0.3047377326565144\n",
      "cp_000 : 0.09695431472081219\n",
      "cq_000 : 0.016751269035532996\n",
      "cr_000 : 0.776818950930626\n",
      "cs_000 : 0.011505922165820644\n",
      "cs_001 : 0.011505922165820644\n",
      "cs_002 : 0.011505922165820644\n",
      "cs_003 : 0.011505922165820644\n",
      "cs_004 : 0.011505922165820644\n",
      "cs_005 : 0.011505922165820644\n",
      "cs_006 : 0.011505922165820644\n",
      "cs_007 : 0.011505922165820644\n",
      "cs_008 : 0.011505922165820644\n",
      "cs_009 : 0.011505922165820644\n",
      "ct_000 : 0.2727580372250423\n",
      "cu_000 : 0.2727580372250423\n",
      "cv_000 : 0.2727580372250423\n",
      "cx_000 : 0.2727580372250423\n",
      "cy_000 : 0.2727580372250423\n",
      "cz_000 : 0.2727580372250423\n",
      "da_000 : 0.2727580372250423\n",
      "db_000 : 0.2727580372250423\n",
      "dc_000 : 0.2727580372250423\n",
      "dd_000 : 0.08764805414551607\n",
      "de_000 : 0.09695431472081219\n",
      "df_000 : 0.1407783417935702\n",
      "dg_000 : 0.1407783417935702\n",
      "dh_000 : 0.1407783417935702\n",
      "di_000 : 0.1407783417935702\n",
      "dj_000 : 0.1407783417935702\n",
      "dk_000 : 0.1407783417935702\n",
      "dl_000 : 0.1407783417935702\n",
      "dm_000 : 0.1407783417935702\n",
      "dn_000 : 0.016751269035532996\n",
      "do_000 : 0.09695431472081219\n",
      "dp_000 : 0.09695431472081219\n",
      "dq_000 : 0.09695431472081219\n",
      "dr_000 : 0.09695431472081219\n",
      "ds_000 : 0.09695431472081219\n",
      "dt_000 : 0.09695431472081219\n",
      "du_000 : 0.09695431472081219\n",
      "dv_000 : 0.09695431472081219\n",
      "dx_000 : 0.09695431472081219\n",
      "dy_000 : 0.09695431472081219\n",
      "dz_000 : 0.09695431472081219\n",
      "ea_000 : 0.09695431472081219\n",
      "eb_000 : 0.1407783417935702\n",
      "ec_00 : 0.18917089678510998\n",
      "ed_000 : 0.16683587140439932\n",
      "ee_000 : 0.011675126903553299\n",
      "ee_001 : 0.011675126903553299\n",
      "ee_002 : 0.011675126903553299\n",
      "ee_003 : 0.011675126903553299\n",
      "ee_004 : 0.011675126903553299\n",
      "ee_005 : 0.011675126903553299\n",
      "ee_006 : 0.011675126903553299\n",
      "ee_007 : 0.011675126903553299\n",
      "ee_008 : 0.011675126903553299\n",
      "ee_009 : 0.011675126903553299\n",
      "ef_000 : 0.09695431472081219\n",
      "eg_000 : 0.09695431472081219\n"
     ]
    }
   ],
   "source": [
    "#Finding the mean of the missing/NULL values\n",
    "for i in l:\n",
    "    print(str(i) + \" : \" + str(df[i].isnull().sum()/len(df[i])))"
   ]
  },
  {
   "cell_type": "code",
   "execution_count": 13,
   "metadata": {},
   "outputs": [],
   "source": [
    "# drop if more than 60% of the values arr missing for a column\n",
    "df = df[df.columns[df.isnull().mean() < 0.6]] "
   ]
  },
  {
   "cell_type": "code",
   "execution_count": 18,
   "metadata": {},
   "outputs": [
    {
     "data": {
      "text/plain": [
       "(5910, 164)"
      ]
     },
     "execution_count": 18,
     "metadata": {},
     "output_type": "execute_result"
    }
   ],
   "source": [
    "df.shape"
   ]
  },
  {
   "cell_type": "code",
   "execution_count": 19,
   "metadata": {},
   "outputs": [
    {
     "data": {
      "text/plain": [
       "array(['neg', 'pos'], dtype=object)"
      ]
     },
     "execution_count": 19,
     "metadata": {},
     "output_type": "execute_result"
    }
   ],
   "source": [
    "#Analyzing the output class\n",
    "df['class'].unique()"
   ]
  },
  {
   "cell_type": "code",
   "execution_count": 20,
   "metadata": {},
   "outputs": [],
   "source": [
    "df['class'] = df['class'].replace({'neg':0,'pos':1})"
   ]
  },
  {
   "cell_type": "code",
   "execution_count": 24,
   "metadata": {},
   "outputs": [
    {
     "data": {
      "text/plain": [
       "array([0, 1], dtype=int64)"
      ]
     },
     "execution_count": 24,
     "metadata": {},
     "output_type": "execute_result"
    }
   ],
   "source": [
    "df['class'].unique()"
   ]
  },
  {
   "cell_type": "code",
   "execution_count": 22,
   "metadata": {},
   "outputs": [
    {
     "data": {
      "text/plain": [
       "<AxesSubplot:>"
      ]
     },
     "execution_count": 22,
     "metadata": {},
     "output_type": "execute_result"
    },
    {
     "data": {
      "image/png": "[encoded data removed]",
      "text/plain": [
       "<Figure size 432x288 with 1 Axes>"
      ]
     },
     "metadata": {
      "needs_background": "light"
     },
     "output_type": "display_data"
    }
   ],
   "source": [
    "df['class'].value_counts().plot(kind = 'barh')"
   ]
  },
  {
   "cell_type": "markdown",
   "metadata": {},
   "source": [
    "Based on the above plot we can see that the dataset is highly imbalanced"
   ]
  },
  {
   "cell_type": "code",
   "execution_count": 25,
   "metadata": {},
   "outputs": [],
   "source": [
    "# we need to convert all the data to numeric format\n",
    "df=df.apply(pd.to_numeric)"
   ]
  },
  {
   "cell_type": "code",
   "execution_count": 26,
   "metadata": {},
   "outputs": [
    {
     "data": {
      "text/plain": [
       "class       int64\n",
       "aa_000      int64\n",
       "ac_000    float64\n",
       "ad_000    float64\n",
       "ae_000    float64\n",
       "           ...   \n",
       "ee_007    float64\n",
       "ee_008    float64\n",
       "ee_009    float64\n",
       "ef_000    float64\n",
       "eg_000    float64\n",
       "Length: 164, dtype: object"
      ]
     },
     "execution_count": 26,
     "metadata": {},
     "output_type": "execute_result"
    }
   ],
   "source": [
    "df.dtypes"
   ]
  },
  {
   "cell_type": "code",
   "execution_count": 27,
   "metadata": {},
   "outputs": [],
   "source": [
    "#replacing the nan values with median() \n",
    "for col in df.columns:\n",
    "    df[col] = df[col].replace(np.NaN,df[col].median())"
   ]
  },
  {
   "cell_type": "code",
   "execution_count": 28,
   "metadata": {},
   "outputs": [],
   "source": [
    "#checking the columns which had a standard deviation of 0 which were not useful for our analysis\n",
    "cols_to_drop = []\n",
    "for i in df.columns:\n",
    "    if df[i].std() == 0:\n",
    "        cols_to_drop.append(i)"
   ]
  },
  {
   "cell_type": "code",
   "execution_count": 29,
   "metadata": {},
   "outputs": [
    {
     "data": {
      "text/plain": [
       "['cd_000']"
      ]
     },
     "execution_count": 29,
     "metadata": {},
     "output_type": "execute_result"
    }
   ],
   "source": [
    "cols_to_drop"
   ]
  },
  {
   "cell_type": "code",
   "execution_count": 30,
   "metadata": {},
   "outputs": [],
   "source": [
    "df.drop('cd_000',axis = 1,inplace = True)"
   ]
  },
  {
   "cell_type": "code",
   "execution_count": 31,
   "metadata": {},
   "outputs": [
    {
     "data": {
      "text/plain": [
       "(5910, 163)"
      ]
     },
     "execution_count": 31,
     "metadata": {},
     "output_type": "execute_result"
    }
   ],
   "source": [
    "df.shape"
   ]
  },
  {
   "cell_type": "code",
   "execution_count": 32,
   "metadata": {},
   "outputs": [],
   "source": [
    "# Splitting the input and target features\n",
    "\n",
    "X = df.drop(['class'],axis = 1)\n",
    "y = df['class']"
   ]
  },
  {
   "cell_type": "code",
   "execution_count": 33,
   "metadata": {},
   "outputs": [
    {
     "data": {
      "text/plain": [
       "<AxesSubplot:xlabel='class', ylabel='count'>"
      ]
     },
     "execution_count": 33,
     "metadata": {},
     "output_type": "execute_result"
    },
    {
     "data": {
      "image/png": "[encoded data removed]",
      "text/plain": [
       "<Figure size 432x288 with 1 Axes>"
      ]
     },
     "metadata": {
      "needs_background": "light"
     },
     "output_type": "display_data"
    }
   ],
   "source": [
    "import seaborn as sns\n",
    "sns.countplot(y)"
   ]
  },
  {
   "cell_type": "code",
   "execution_count": 34,
   "metadata": {},
   "outputs": [],
   "source": [
    "# Handling the Imbalanced Dataset using SMOTE\n",
    "from imblearn.over_sampling import SMOTE"
   ]
  },
  {
   "cell_type": "code",
   "execution_count": 35,
   "metadata": {},
   "outputs": [],
   "source": [
    "sample = SMOTE()\n",
    "X_bal,y_bal = sample.fit_resample(X,y)"
   ]
  },
  {
   "cell_type": "code",
   "execution_count": 36,
   "metadata": {},
   "outputs": [
    {
     "data": {
      "text/plain": [
       "<AxesSubplot:xlabel='class', ylabel='count'>"
      ]
     },
     "execution_count": 36,
     "metadata": {},
     "output_type": "execute_result"
    },
    {
     "data": {
      "image/png": "[encoded data removed]",
      "text/plain": [
       "<Figure size 432x288 with 1 Axes>"
      ]
     },
     "metadata": {
      "needs_background": "light"
     },
     "output_type": "display_data"
    }
   ],
   "source": [
    "sns.countplot(y_bal)"
   ]
  },
  {
   "cell_type": "code",
   "execution_count": 37,
   "metadata": {},
   "outputs": [],
   "source": [
    "# Applying the Standard Scaler \n",
    "from sklearn.preprocessing import StandardScaler\n",
    "\n",
    "scaler = StandardScaler()\n",
    "X_scaled = scaler.fit_transform(X)"
   ]
  },
  {
   "cell_type": "code",
   "execution_count": 38,
   "metadata": {},
   "outputs": [],
   "source": [
    "X_scaled = pd.DataFrame(X_scaled, columns=X.columns,index=X.index)"
   ]
  },
  {
   "cell_type": "code",
   "execution_count": 39,
   "metadata": {},
   "outputs": [
    {
     "data": {
      "text/html": [
       "<div>\n",
       "<style scoped>\n",
       "    .dataframe tbody tr th:only-of-type {\n",
       "        vertical-align: middle;\n",
       "    }\n",
       "\n",
       "    .dataframe tbody tr th {\n",
       "        vertical-align: top;\n",
       "    }\n",
       "\n",
       "    .dataframe thead th {\n",
       "        text-align: right;\n",
       "    }\n",
       "</style>\n",
       "<table border=\"1\" class=\"dataframe\">\n",
       "  <thead>\n",
       "    <tr style=\"text-align: right;\">\n",
       "      <th></th>\n",
       "      <th>aa_000</th>\n",
       "      <th>ac_000</th>\n",
       "      <th>ad_000</th>\n",
       "      <th>ae_000</th>\n",
       "      <th>af_000</th>\n",
       "      <th>ag_000</th>\n",
       "      <th>ag_001</th>\n",
       "      <th>ag_002</th>\n",
       "      <th>ag_003</th>\n",
       "      <th>ag_004</th>\n",
       "      <th>...</th>\n",
       "      <th>ee_002</th>\n",
       "      <th>ee_003</th>\n",
       "      <th>ee_004</th>\n",
       "      <th>ee_005</th>\n",
       "      <th>ee_006</th>\n",
       "      <th>ee_007</th>\n",
       "      <th>ee_008</th>\n",
       "      <th>ee_009</th>\n",
       "      <th>ef_000</th>\n",
       "      <th>eg_000</th>\n",
       "    </tr>\n",
       "  </thead>\n",
       "  <tbody>\n",
       "    <tr>\n",
       "      <th>0</th>\n",
       "      <td>-0.246391</td>\n",
       "      <td>2.542070</td>\n",
       "      <td>-0.092906</td>\n",
       "      <td>-0.071889</td>\n",
       "      <td>-0.064923</td>\n",
       "      <td>-0.023344</td>\n",
       "      <td>-0.082359</td>\n",
       "      <td>-0.156393</td>\n",
       "      <td>-0.235599</td>\n",
       "      <td>-0.298132</td>\n",
       "      <td>...</td>\n",
       "      <td>0.076197</td>\n",
       "      <td>0.006165</td>\n",
       "      <td>-0.121946</td>\n",
       "      <td>-0.198780</td>\n",
       "      <td>-0.214523</td>\n",
       "      <td>-0.223135</td>\n",
       "      <td>-0.190798</td>\n",
       "      <td>-0.152960</td>\n",
       "      <td>-0.025886</td>\n",
       "      <td>-0.037643</td>\n",
       "    </tr>\n",
       "    <tr>\n",
       "      <th>1</th>\n",
       "      <td>-0.389639</td>\n",
       "      <td>-0.393381</td>\n",
       "      <td>-0.159686</td>\n",
       "      <td>-0.071889</td>\n",
       "      <td>-0.064923</td>\n",
       "      <td>-0.023344</td>\n",
       "      <td>-0.082359</td>\n",
       "      <td>-0.156393</td>\n",
       "      <td>-0.235599</td>\n",
       "      <td>-0.302145</td>\n",
       "      <td>...</td>\n",
       "      <td>-0.260398</td>\n",
       "      <td>-0.266565</td>\n",
       "      <td>-0.297368</td>\n",
       "      <td>-0.277788</td>\n",
       "      <td>-0.301261</td>\n",
       "      <td>-0.258840</td>\n",
       "      <td>-0.166172</td>\n",
       "      <td>-0.137258</td>\n",
       "      <td>-0.025886</td>\n",
       "      <td>-0.037643</td>\n",
       "    </tr>\n",
       "    <tr>\n",
       "      <th>2</th>\n",
       "      <td>-0.363438</td>\n",
       "      <td>-0.393381</td>\n",
       "      <td>-0.183969</td>\n",
       "      <td>-0.071889</td>\n",
       "      <td>-0.064923</td>\n",
       "      <td>-0.023344</td>\n",
       "      <td>-0.082359</td>\n",
       "      <td>-0.156393</td>\n",
       "      <td>-0.235599</td>\n",
       "      <td>-0.305653</td>\n",
       "      <td>...</td>\n",
       "      <td>-0.319580</td>\n",
       "      <td>-0.282352</td>\n",
       "      <td>-0.243771</td>\n",
       "      <td>-0.219988</td>\n",
       "      <td>-0.222294</td>\n",
       "      <td>-0.223104</td>\n",
       "      <td>-0.168647</td>\n",
       "      <td>-0.147580</td>\n",
       "      <td>-0.025886</td>\n",
       "      <td>-0.037643</td>\n",
       "    </tr>\n",
       "    <tr>\n",
       "      <th>3</th>\n",
       "      <td>-0.498113</td>\n",
       "      <td>-0.393381</td>\n",
       "      <td>-0.201170</td>\n",
       "      <td>-0.071889</td>\n",
       "      <td>-0.025772</td>\n",
       "      <td>-0.023344</td>\n",
       "      <td>-0.082359</td>\n",
       "      <td>-0.156393</td>\n",
       "      <td>-0.235441</td>\n",
       "      <td>-0.305534</td>\n",
       "      <td>...</td>\n",
       "      <td>-0.433462</td>\n",
       "      <td>-0.420539</td>\n",
       "      <td>-0.417633</td>\n",
       "      <td>-0.364190</td>\n",
       "      <td>-0.357669</td>\n",
       "      <td>-0.296555</td>\n",
       "      <td>-0.264849</td>\n",
       "      <td>-0.152960</td>\n",
       "      <td>0.756664</td>\n",
       "      <td>3.469296</td>\n",
       "    </tr>\n",
       "    <tr>\n",
       "      <th>4</th>\n",
       "      <td>-0.298333</td>\n",
       "      <td>-0.393379</td>\n",
       "      <td>-0.002855</td>\n",
       "      <td>-0.071889</td>\n",
       "      <td>-0.064923</td>\n",
       "      <td>-0.023344</td>\n",
       "      <td>-0.082359</td>\n",
       "      <td>-0.156393</td>\n",
       "      <td>-0.235599</td>\n",
       "      <td>-0.296759</td>\n",
       "      <td>...</td>\n",
       "      <td>-0.177962</td>\n",
       "      <td>-0.221826</td>\n",
       "      <td>-0.251438</td>\n",
       "      <td>-0.241952</td>\n",
       "      <td>-0.236556</td>\n",
       "      <td>-0.151738</td>\n",
       "      <td>0.174003</td>\n",
       "      <td>-0.140210</td>\n",
       "      <td>-0.025886</td>\n",
       "      <td>-0.037643</td>\n",
       "    </tr>\n",
       "  </tbody>\n",
       "</table>\n",
       "<p>5 rows × 162 columns</p>\n",
       "</div>"
      ],
      "text/plain": [
       "     aa_000    ac_000    ad_000    ae_000    af_000    ag_000    ag_001  \\\n",
       "0 -0.246391  2.542070 -0.092906 -0.071889 -0.064923 -0.023344 -0.082359   \n",
       "1 -0.389639 -0.393381 -0.159686 -0.071889 -0.064923 -0.023344 -0.082359   \n",
       "2 -0.363438 -0.393381 -0.183969 -0.071889 -0.064923 -0.023344 -0.082359   \n",
       "3 -0.498113 -0.393381 -0.201170 -0.071889 -0.025772 -0.023344 -0.082359   \n",
       "4 -0.298333 -0.393379 -0.002855 -0.071889 -0.064923 -0.023344 -0.082359   \n",
       "\n",
       "     ag_002    ag_003    ag_004  ...    ee_002    ee_003    ee_004    ee_005  \\\n",
       "0 -0.156393 -0.235599 -0.298132  ...  0.076197  0.006165 -0.121946 -0.198780   \n",
       "1 -0.156393 -0.235599 -0.302145  ... -0.260398 -0.266565 -0.297368 -0.277788   \n",
       "2 -0.156393 -0.235599 -0.305653  ... -0.319580 -0.282352 -0.243771 -0.219988   \n",
       "3 -0.156393 -0.235441 -0.305534  ... -0.433462 -0.420539 -0.417633 -0.364190   \n",
       "4 -0.156393 -0.235599 -0.296759  ... -0.177962 -0.221826 -0.251438 -0.241952   \n",
       "\n",
       "     ee_006    ee_007    ee_008    ee_009    ef_000    eg_000  \n",
       "0 -0.214523 -0.223135 -0.190798 -0.152960 -0.025886 -0.037643  \n",
       "1 -0.301261 -0.258840 -0.166172 -0.137258 -0.025886 -0.037643  \n",
       "2 -0.222294 -0.223104 -0.168647 -0.147580 -0.025886 -0.037643  \n",
       "3 -0.357669 -0.296555 -0.264849 -0.152960  0.756664  3.469296  \n",
       "4 -0.236556 -0.151738  0.174003 -0.140210 -0.025886 -0.037643  \n",
       "\n",
       "[5 rows x 162 columns]"
      ]
     },
     "execution_count": 39,
     "metadata": {},
     "output_type": "execute_result"
    }
   ],
   "source": [
    "X_scaled.head()"
   ]
  },
  {
   "cell_type": "code",
   "execution_count": 40,
   "metadata": {},
   "outputs": [
    {
     "data": {
      "image/png": "[encoded data removed]",
      "text/plain": [
       "<Figure size 432x288 with 1 Axes>"
      ]
     },
     "metadata": {
      "needs_background": "light"
     },
     "output_type": "display_data"
    }
   ],
   "source": [
    "#Applying the PCA for Feature selection\n",
    "from sklearn.decomposition import PCA\n",
    "import numpy as np\n",
    "pca = PCA()\n",
    "principalComponents = pca.fit_transform(X_scaled)\n",
    "plt.figure()\n",
    "plt.plot(np.cumsum(pca.explained_variance_ratio_))\n",
    "plt.xlabel('Number of Components')\n",
    "plt.ylabel('Variance (%)') #for each component\n",
    "plt.title('Explained Variance')\n",
    "plt.show()"
   ]
  },
  {
   "cell_type": "markdown",
   "metadata": {},
   "source": [
    "Observation:\n",
    "\n",
    "More than 90% of the data is explained by 80 features"
   ]
  },
  {
   "cell_type": "code",
   "execution_count": 43,
   "metadata": {},
   "outputs": [
    {
     "data": {
      "text/html": [
       "<div>\n",
       "<style scoped>\n",
       "    .dataframe tbody tr th:only-of-type {\n",
       "        vertical-align: middle;\n",
       "    }\n",
       "\n",
       "    .dataframe tbody tr th {\n",
       "        vertical-align: top;\n",
       "    }\n",
       "\n",
       "    .dataframe thead th {\n",
       "        text-align: right;\n",
       "    }\n",
       "</style>\n",
       "<table border=\"1\" class=\"dataframe\">\n",
       "  <thead>\n",
       "    <tr style=\"text-align: right;\">\n",
       "      <th></th>\n",
       "      <th>0</th>\n",
       "      <th>1</th>\n",
       "      <th>2</th>\n",
       "      <th>3</th>\n",
       "      <th>4</th>\n",
       "      <th>5</th>\n",
       "      <th>6</th>\n",
       "      <th>7</th>\n",
       "      <th>8</th>\n",
       "      <th>9</th>\n",
       "      <th>...</th>\n",
       "      <th>90</th>\n",
       "      <th>91</th>\n",
       "      <th>92</th>\n",
       "      <th>93</th>\n",
       "      <th>94</th>\n",
       "      <th>95</th>\n",
       "      <th>96</th>\n",
       "      <th>97</th>\n",
       "      <th>98</th>\n",
       "      <th>99</th>\n",
       "    </tr>\n",
       "  </thead>\n",
       "  <tbody>\n",
       "    <tr>\n",
       "      <th>0</th>\n",
       "      <td>-0.956507</td>\n",
       "      <td>-0.587999</td>\n",
       "      <td>-0.893058</td>\n",
       "      <td>0.773001</td>\n",
       "      <td>-0.511930</td>\n",
       "      <td>-0.427991</td>\n",
       "      <td>0.097644</td>\n",
       "      <td>-0.580294</td>\n",
       "      <td>-0.281389</td>\n",
       "      <td>0.009767</td>\n",
       "      <td>...</td>\n",
       "      <td>0.536513</td>\n",
       "      <td>0.280246</td>\n",
       "      <td>-0.206182</td>\n",
       "      <td>0.332924</td>\n",
       "      <td>0.338371</td>\n",
       "      <td>0.342058</td>\n",
       "      <td>0.110325</td>\n",
       "      <td>0.306394</td>\n",
       "      <td>-0.414665</td>\n",
       "      <td>0.336152</td>\n",
       "    </tr>\n",
       "    <tr>\n",
       "      <th>1</th>\n",
       "      <td>-2.456046</td>\n",
       "      <td>-0.377180</td>\n",
       "      <td>0.109822</td>\n",
       "      <td>-0.124251</td>\n",
       "      <td>-0.098634</td>\n",
       "      <td>-0.063796</td>\n",
       "      <td>0.112654</td>\n",
       "      <td>0.199431</td>\n",
       "      <td>0.037322</td>\n",
       "      <td>-0.494932</td>\n",
       "      <td>...</td>\n",
       "      <td>-0.106331</td>\n",
       "      <td>-0.102934</td>\n",
       "      <td>-0.082793</td>\n",
       "      <td>0.045550</td>\n",
       "      <td>-0.005346</td>\n",
       "      <td>-0.039968</td>\n",
       "      <td>-0.128804</td>\n",
       "      <td>-0.001434</td>\n",
       "      <td>0.162672</td>\n",
       "      <td>0.176872</td>\n",
       "    </tr>\n",
       "    <tr>\n",
       "      <th>2</th>\n",
       "      <td>-2.790831</td>\n",
       "      <td>-0.208843</td>\n",
       "      <td>0.287683</td>\n",
       "      <td>-0.222176</td>\n",
       "      <td>-0.340649</td>\n",
       "      <td>0.159020</td>\n",
       "      <td>-0.224993</td>\n",
       "      <td>-0.106419</td>\n",
       "      <td>-0.168538</td>\n",
       "      <td>0.486830</td>\n",
       "      <td>...</td>\n",
       "      <td>0.000619</td>\n",
       "      <td>0.038138</td>\n",
       "      <td>-0.023625</td>\n",
       "      <td>0.059441</td>\n",
       "      <td>0.022868</td>\n",
       "      <td>-0.010739</td>\n",
       "      <td>-0.061336</td>\n",
       "      <td>0.015562</td>\n",
       "      <td>0.007678</td>\n",
       "      <td>0.020991</td>\n",
       "    </tr>\n",
       "    <tr>\n",
       "      <th>3</th>\n",
       "      <td>-3.763061</td>\n",
       "      <td>-0.040593</td>\n",
       "      <td>0.588418</td>\n",
       "      <td>-0.350907</td>\n",
       "      <td>-0.008200</td>\n",
       "      <td>0.328729</td>\n",
       "      <td>-0.087235</td>\n",
       "      <td>0.170341</td>\n",
       "      <td>0.730023</td>\n",
       "      <td>0.103681</td>\n",
       "      <td>...</td>\n",
       "      <td>0.087726</td>\n",
       "      <td>0.051694</td>\n",
       "      <td>-0.060800</td>\n",
       "      <td>-0.031333</td>\n",
       "      <td>0.002503</td>\n",
       "      <td>0.084945</td>\n",
       "      <td>-0.003948</td>\n",
       "      <td>-0.050832</td>\n",
       "      <td>0.131680</td>\n",
       "      <td>0.108613</td>\n",
       "    </tr>\n",
       "    <tr>\n",
       "      <th>4</th>\n",
       "      <td>-1.916253</td>\n",
       "      <td>-0.087754</td>\n",
       "      <td>-0.413458</td>\n",
       "      <td>0.113851</td>\n",
       "      <td>-0.071320</td>\n",
       "      <td>-0.061019</td>\n",
       "      <td>-0.072661</td>\n",
       "      <td>-0.358821</td>\n",
       "      <td>-0.228567</td>\n",
       "      <td>0.008919</td>\n",
       "      <td>...</td>\n",
       "      <td>0.036762</td>\n",
       "      <td>0.017564</td>\n",
       "      <td>-0.023391</td>\n",
       "      <td>0.086633</td>\n",
       "      <td>0.108331</td>\n",
       "      <td>0.059702</td>\n",
       "      <td>-0.054075</td>\n",
       "      <td>0.044048</td>\n",
       "      <td>0.155900</td>\n",
       "      <td>-0.112473</td>\n",
       "    </tr>\n",
       "    <tr>\n",
       "      <th>...</th>\n",
       "      <td>...</td>\n",
       "      <td>...</td>\n",
       "      <td>...</td>\n",
       "      <td>...</td>\n",
       "      <td>...</td>\n",
       "      <td>...</td>\n",
       "      <td>...</td>\n",
       "      <td>...</td>\n",
       "      <td>...</td>\n",
       "      <td>...</td>\n",
       "      <td>...</td>\n",
       "      <td>...</td>\n",
       "      <td>...</td>\n",
       "      <td>...</td>\n",
       "      <td>...</td>\n",
       "      <td>...</td>\n",
       "      <td>...</td>\n",
       "      <td>...</td>\n",
       "      <td>...</td>\n",
       "      <td>...</td>\n",
       "      <td>...</td>\n",
       "    </tr>\n",
       "    <tr>\n",
       "      <th>5905</th>\n",
       "      <td>18.108825</td>\n",
       "      <td>-9.348800</td>\n",
       "      <td>3.425941</td>\n",
       "      <td>2.508331</td>\n",
       "      <td>-0.352280</td>\n",
       "      <td>-3.981123</td>\n",
       "      <td>-1.420539</td>\n",
       "      <td>-0.211030</td>\n",
       "      <td>1.421244</td>\n",
       "      <td>1.443292</td>\n",
       "      <td>...</td>\n",
       "      <td>0.289002</td>\n",
       "      <td>-1.267552</td>\n",
       "      <td>0.297343</td>\n",
       "      <td>0.363814</td>\n",
       "      <td>1.509347</td>\n",
       "      <td>0.463290</td>\n",
       "      <td>1.807063</td>\n",
       "      <td>0.408442</td>\n",
       "      <td>-0.695831</td>\n",
       "      <td>0.573238</td>\n",
       "    </tr>\n",
       "    <tr>\n",
       "      <th>5906</th>\n",
       "      <td>15.365867</td>\n",
       "      <td>4.640637</td>\n",
       "      <td>7.238354</td>\n",
       "      <td>-3.570342</td>\n",
       "      <td>-1.041947</td>\n",
       "      <td>-1.248805</td>\n",
       "      <td>0.369784</td>\n",
       "      <td>0.808632</td>\n",
       "      <td>0.027624</td>\n",
       "      <td>0.268197</td>\n",
       "      <td>...</td>\n",
       "      <td>0.159605</td>\n",
       "      <td>-1.009894</td>\n",
       "      <td>-2.030367</td>\n",
       "      <td>-0.188368</td>\n",
       "      <td>-0.368641</td>\n",
       "      <td>-0.724672</td>\n",
       "      <td>0.803189</td>\n",
       "      <td>1.739933</td>\n",
       "      <td>-0.895318</td>\n",
       "      <td>0.265278</td>\n",
       "    </tr>\n",
       "    <tr>\n",
       "      <th>5907</th>\n",
       "      <td>16.183449</td>\n",
       "      <td>-2.284566</td>\n",
       "      <td>-7.146405</td>\n",
       "      <td>2.732824</td>\n",
       "      <td>8.232148</td>\n",
       "      <td>6.419791</td>\n",
       "      <td>8.599807</td>\n",
       "      <td>5.094423</td>\n",
       "      <td>4.101118</td>\n",
       "      <td>-5.030870</td>\n",
       "      <td>...</td>\n",
       "      <td>-1.042709</td>\n",
       "      <td>-1.149371</td>\n",
       "      <td>-2.085466</td>\n",
       "      <td>-0.744917</td>\n",
       "      <td>-1.141416</td>\n",
       "      <td>-1.285688</td>\n",
       "      <td>-0.814531</td>\n",
       "      <td>1.112973</td>\n",
       "      <td>0.977873</td>\n",
       "      <td>-0.097981</td>\n",
       "    </tr>\n",
       "    <tr>\n",
       "      <th>5908</th>\n",
       "      <td>13.045923</td>\n",
       "      <td>3.233491</td>\n",
       "      <td>6.436156</td>\n",
       "      <td>-2.468486</td>\n",
       "      <td>1.742134</td>\n",
       "      <td>0.452330</td>\n",
       "      <td>0.706165</td>\n",
       "      <td>0.548924</td>\n",
       "      <td>0.080244</td>\n",
       "      <td>3.217952</td>\n",
       "      <td>...</td>\n",
       "      <td>-0.183843</td>\n",
       "      <td>1.565063</td>\n",
       "      <td>-0.581805</td>\n",
       "      <td>2.329588</td>\n",
       "      <td>-1.618458</td>\n",
       "      <td>-1.114444</td>\n",
       "      <td>0.691110</td>\n",
       "      <td>2.860639</td>\n",
       "      <td>2.068805</td>\n",
       "      <td>-0.796466</td>\n",
       "    </tr>\n",
       "    <tr>\n",
       "      <th>5909</th>\n",
       "      <td>9.060492</td>\n",
       "      <td>7.017190</td>\n",
       "      <td>0.228266</td>\n",
       "      <td>-2.321941</td>\n",
       "      <td>-1.433708</td>\n",
       "      <td>-0.772733</td>\n",
       "      <td>3.796377</td>\n",
       "      <td>-1.020869</td>\n",
       "      <td>-1.323172</td>\n",
       "      <td>-0.103068</td>\n",
       "      <td>...</td>\n",
       "      <td>0.633304</td>\n",
       "      <td>0.312685</td>\n",
       "      <td>-0.305326</td>\n",
       "      <td>0.594834</td>\n",
       "      <td>-0.098850</td>\n",
       "      <td>-0.624588</td>\n",
       "      <td>-0.194049</td>\n",
       "      <td>0.794065</td>\n",
       "      <td>-0.670655</td>\n",
       "      <td>1.108323</td>\n",
       "    </tr>\n",
       "  </tbody>\n",
       "</table>\n",
       "<p>5910 rows × 100 columns</p>\n",
       "</div>"
      ],
      "text/plain": [
       "             0         1         2         3         4         5         6   \\\n",
       "0     -0.956507 -0.587999 -0.893058  0.773001 -0.511930 -0.427991  0.097644   \n",
       "1     -2.456046 -0.377180  0.109822 -0.124251 -0.098634 -0.063796  0.112654   \n",
       "2     -2.790831 -0.208843  0.287683 -0.222176 -0.340649  0.159020 -0.224993   \n",
       "3     -3.763061 -0.040593  0.588418 -0.350907 -0.008200  0.328729 -0.087235   \n",
       "4     -1.916253 -0.087754 -0.413458  0.113851 -0.071320 -0.061019 -0.072661   \n",
       "...         ...       ...       ...       ...       ...       ...       ...   \n",
       "5905  18.108825 -9.348800  3.425941  2.508331 -0.352280 -3.981123 -1.420539   \n",
       "5906  15.365867  4.640637  7.238354 -3.570342 -1.041947 -1.248805  0.369784   \n",
       "5907  16.183449 -2.284566 -7.146405  2.732824  8.232148  6.419791  8.599807   \n",
       "5908  13.045923  3.233491  6.436156 -2.468486  1.742134  0.452330  0.706165   \n",
       "5909   9.060492  7.017190  0.228266 -2.321941 -1.433708 -0.772733  3.796377   \n",
       "\n",
       "            7         8         9   ...        90        91        92  \\\n",
       "0    -0.580294 -0.281389  0.009767  ...  0.536513  0.280246 -0.206182   \n",
       "1     0.199431  0.037322 -0.494932  ... -0.106331 -0.102934 -0.082793   \n",
       "2    -0.106419 -0.168538  0.486830  ...  0.000619  0.038138 -0.023625   \n",
       "3     0.170341  0.730023  0.103681  ...  0.087726  0.051694 -0.060800   \n",
       "4    -0.358821 -0.228567  0.008919  ...  0.036762  0.017564 -0.023391   \n",
       "...        ...       ...       ...  ...       ...       ...       ...   \n",
       "5905 -0.211030  1.421244  1.443292  ...  0.289002 -1.267552  0.297343   \n",
       "5906  0.808632  0.027624  0.268197  ...  0.159605 -1.009894 -2.030367   \n",
       "5907  5.094423  4.101118 -5.030870  ... -1.042709 -1.149371 -2.085466   \n",
       "5908  0.548924  0.080244  3.217952  ... -0.183843  1.565063 -0.581805   \n",
       "5909 -1.020869 -1.323172 -0.103068  ...  0.633304  0.312685 -0.305326   \n",
       "\n",
       "            93        94        95        96        97        98        99  \n",
       "0     0.332924  0.338371  0.342058  0.110325  0.306394 -0.414665  0.336152  \n",
       "1     0.045550 -0.005346 -0.039968 -0.128804 -0.001434  0.162672  0.176872  \n",
       "2     0.059441  0.022868 -0.010739 -0.061336  0.015562  0.007678  0.020991  \n",
       "3    -0.031333  0.002503  0.084945 -0.003948 -0.050832  0.131680  0.108613  \n",
       "4     0.086633  0.108331  0.059702 -0.054075  0.044048  0.155900 -0.112473  \n",
       "...        ...       ...       ...       ...       ...       ...       ...  \n",
       "5905  0.363814  1.509347  0.463290  1.807063  0.408442 -0.695831  0.573238  \n",
       "5906 -0.188368 -0.368641 -0.724672  0.803189  1.739933 -0.895318  0.265278  \n",
       "5907 -0.744917 -1.141416 -1.285688 -0.814531  1.112973  0.977873 -0.097981  \n",
       "5908  2.329588 -1.618458 -1.114444  0.691110  2.860639  2.068805 -0.796466  \n",
       "5909  0.594834 -0.098850 -0.624588 -0.194049  0.794065 -0.670655  1.108323  \n",
       "\n",
       "[5910 rows x 100 columns]"
      ]
     },
     "execution_count": 43,
     "metadata": {},
     "output_type": "execute_result"
    }
   ],
   "source": [
    "pca = PCA(n_components=100)\n",
    "new_data = pca.fit_transform(X_scaled)\n",
    "\n",
    "principal_x = pd.DataFrame(new_data,index=X_scaled.index)\n",
    "principal_x"
   ]
  },
  {
   "cell_type": "code",
   "execution_count": 44,
   "metadata": {},
   "outputs": [],
   "source": [
    "#Splitting the data\n",
    "from sklearn.model_selection import train_test_split\n",
    "\n",
    "x_train,x_test,y_train,y_test = train_test_split(principal_x,y,test_size = 1/3)"
   ]
  },
  {
   "cell_type": "code",
   "execution_count": 45,
   "metadata": {},
   "outputs": [],
   "source": [
    "# Function for calculating all the relevant metrics \n",
    "def score(m):\n",
    "    y_pred = m.predict(x_test)\n",
    "    print(classification_report(y_pred,y_test))\n",
    "    print(\"ROC-AUC Score\" + \" : \"+ str(roc_auc_score(y_pred,y_test)))\n",
    "    print(plot_roc_curve(m, x_test, y_test))"
   ]
  },
  {
   "cell_type": "markdown",
   "metadata": {},
   "source": [
    "# Applying Logistic Regression"
   ]
  },
  {
   "cell_type": "code",
   "execution_count": 46,
   "metadata": {},
   "outputs": [],
   "source": [
    "from sklearn.metrics  import roc_auc_score,accuracy_score,classification_report\n",
    "from sklearn.metrics import plot_roc_curve"
   ]
  },
  {
   "cell_type": "code",
   "execution_count": 47,
   "metadata": {},
   "outputs": [
    {
     "name": "stdout",
     "output_type": "stream",
     "text": [
      "              precision    recall  f1-score   support\n",
      "\n",
      "           0       0.99      0.97      0.98      1662\n",
      "           1       0.85      0.92      0.89       308\n",
      "\n",
      "    accuracy                           0.96      1970\n",
      "   macro avg       0.92      0.95      0.93      1970\n",
      "weighted avg       0.96      0.96      0.96      1970\n",
      "\n",
      "ROC-AUC Score : 0.9462976854673605\n",
      "<sklearn.metrics._plot.roc_curve.RocCurveDisplay object at 0x000001FEFC220CA0>\n"
     ]
    },
    {
     "data": {
      "image/png": "[encoded data removed]",
      "text/plain": [
       "<Figure size 432x288 with 1 Axes>"
      ]
     },
     "metadata": {
      "needs_background": "light"
     },
     "output_type": "display_data"
    }
   ],
   "source": [
    "from sklearn.linear_model import LogisticRegression\n",
    "lr = LogisticRegression()\n",
    "lr.fit(x_train,y_train)\n",
    "score(lr)"
   ]
  },
  {
   "cell_type": "markdown",
   "metadata": {},
   "source": [
    "# Building a KNN Classifier"
   ]
  },
  {
   "cell_type": "code",
   "execution_count": 48,
   "metadata": {},
   "outputs": [
    {
     "name": "stdout",
     "output_type": "stream",
     "text": [
      "              precision    recall  f1-score   support\n",
      "\n",
      "           0       0.98      0.96      0.97      1671\n",
      "           1       0.82      0.92      0.87       299\n",
      "\n",
      "    accuracy                           0.96      1970\n",
      "   macro avg       0.90      0.94      0.92      1970\n",
      "weighted avg       0.96      0.96      0.96      1970\n",
      "\n",
      "ROC-AUC Score : 0.9405398805913987\n",
      "<sklearn.metrics._plot.roc_curve.RocCurveDisplay object at 0x000001FEFFBF3FD0>\n"
     ]
    },
    {
     "data": {
      "image/png": "[encoded data removed]",
      "text/plain": [
       "<Figure size 432x288 with 1 Axes>"
      ]
     },
     "metadata": {
      "needs_background": "light"
     },
     "output_type": "display_data"
    }
   ],
   "source": [
    "from sklearn.neighbors import KNeighborsClassifier\n",
    "knn = KNeighborsClassifier()\n",
    "knn.fit(x_train,y_train)\n",
    "score(knn)"
   ]
  },
  {
   "cell_type": "markdown",
   "metadata": {},
   "source": [
    "# Building a SVM Classifier"
   ]
  },
  {
   "cell_type": "code",
   "execution_count": 49,
   "metadata": {},
   "outputs": [
    {
     "name": "stdout",
     "output_type": "stream",
     "text": [
      "              precision    recall  f1-score   support\n",
      "\n",
      "           0       0.99      0.97      0.98      1658\n",
      "           1       0.87      0.93      0.90       312\n",
      "\n",
      "    accuracy                           0.97      1970\n",
      "   macro avg       0.93      0.95      0.94      1970\n",
      "weighted avg       0.97      0.97      0.97      1970\n",
      "\n",
      "ROC-AUC Score : 0.9498720268472982\n",
      "<sklearn.metrics._plot.roc_curve.RocCurveDisplay object at 0x000001FEFBFEC5E0>\n"
     ]
    },
    {
     "data": {
      "image/png": "[encoded data removed]",
      "text/plain": [
       "<Figure size 432x288 with 1 Axes>"
      ]
     },
     "metadata": {
      "needs_background": "light"
     },
     "output_type": "display_data"
    }
   ],
   "source": [
    "from sklearn import svm\n",
    "clf = svm.SVC(kernel='linear', C = 1.0)\n",
    "clf.fit(x_train,y_train)\n",
    "score(clf)"
   ]
  },
  {
   "cell_type": "markdown",
   "metadata": {},
   "source": [
    "# Decision tree classifier"
   ]
  },
  {
   "cell_type": "code",
   "execution_count": 50,
   "metadata": {},
   "outputs": [
    {
     "name": "stdout",
     "output_type": "stream",
     "text": [
      "              precision    recall  f1-score   support\n",
      "\n",
      "           0       0.95      0.96      0.96      1624\n",
      "           1       0.81      0.78      0.80       346\n",
      "\n",
      "    accuracy                           0.93      1970\n",
      "   macro avg       0.88      0.87      0.88      1970\n",
      "weighted avg       0.93      0.93      0.93      1970\n",
      "\n",
      "ROC-AUC Score : 0.8707768586804863\n",
      "<sklearn.metrics._plot.roc_curve.RocCurveDisplay object at 0x000001FEFBEF7820>\n"
     ]
    },
    {
     "data": {
      "image/png": "[encoded data removed]",
      "text/plain": [
       "<Figure size 432x288 with 1 Axes>"
      ]
     },
     "metadata": {
      "needs_background": "light"
     },
     "output_type": "display_data"
    }
   ],
   "source": [
    "from sklearn.tree import DecisionTreeClassifier\n",
    "\n",
    "dt = DecisionTreeClassifier()\n",
    "dt.fit(x_train,y_train)\n",
    "score(dt)"
   ]
  },
  {
   "cell_type": "markdown",
   "metadata": {},
   "source": [
    "# Random Forest Classifier"
   ]
  },
  {
   "cell_type": "code",
   "execution_count": 51,
   "metadata": {},
   "outputs": [
    {
     "name": "stdout",
     "output_type": "stream",
     "text": [
      "              precision    recall  f1-score   support\n",
      "\n",
      "           0       0.96      0.99      0.97      1601\n",
      "           1       0.93      0.84      0.88       369\n",
      "\n",
      "    accuracy                           0.96      1970\n",
      "   macro avg       0.95      0.91      0.93      1970\n",
      "weighted avg       0.96      0.96      0.96      1970\n",
      "\n",
      "ROC-AUC Score : 0.9128711899236419\n",
      "<sklearn.metrics._plot.roc_curve.RocCurveDisplay object at 0x000001FEFB6C4D90>\n"
     ]
    },
    {
     "data": {
      "image/png": "[encoded data removed]",
      "text/plain": [
       "<Figure size 432x288 with 1 Axes>"
      ]
     },
     "metadata": {
      "needs_background": "light"
     },
     "output_type": "display_data"
    }
   ],
   "source": [
    "from sklearn.ensemble import RandomForestClassifier\n",
    "rf = RandomForestClassifier()\n",
    "rf.fit(x_train,y_train)\n",
    "score(rf)"
   ]
  },
  {
   "cell_type": "markdown",
   "metadata": {},
   "source": [
    "# Applying XGBoost"
   ]
  },
  {
   "cell_type": "code",
   "execution_count": 52,
   "metadata": {},
   "outputs": [
    {
     "name": "stdout",
     "output_type": "stream",
     "text": [
      "[22:48:18] WARNING: C:/Users/Administrator/workspace/xgboost-win64_release_1.4.0/src/learner.cc:1095: Starting in XGBoost 1.3.0, the default evaluation metric used with the objective 'binary:logistic' was changed from 'error' to 'logloss'. Explicitly set eval_metric if you'd like to restore the old behavior.\n",
      "              precision    recall  f1-score   support\n",
      "\n",
      "           0       0.97      0.98      0.98      1618\n",
      "           1       0.92      0.88      0.90       352\n",
      "\n",
      "    accuracy                           0.96      1970\n",
      "   macro avg       0.95      0.93      0.94      1970\n",
      "weighted avg       0.96      0.96      0.96      1970\n",
      "\n",
      "ROC-AUC Score : 0.929774412855377\n",
      "<sklearn.metrics._plot.roc_curve.RocCurveDisplay object at 0x000001FE8452F7C0>\n"
     ]
    },
    {
     "data": {
      "image/png": "[encoded data removed]",
      "text/plain": [
       "<Figure size 432x288 with 1 Axes>"
      ]
     },
     "metadata": {
      "needs_background": "light"
     },
     "output_type": "display_data"
    }
   ],
   "source": [
    "from xgboost.sklearn import XGBClassifier\n",
    "xgb = XGBClassifier()\n",
    "xgb.fit(x_train,y_train)\n",
    "score(xgb)"
   ]
  },
  {
   "cell_type": "markdown",
   "metadata": {},
   "source": [
    "# Applying Light GBM"
   ]
  },
  {
   "cell_type": "code",
   "execution_count": 53,
   "metadata": {},
   "outputs": [
    {
     "name": "stdout",
     "output_type": "stream",
     "text": [
      "              precision    recall  f1-score   support\n",
      "\n",
      "           0       0.97      0.98      0.98      1623\n",
      "           1       0.92      0.88      0.90       347\n",
      "\n",
      "    accuracy                           0.97      1970\n",
      "   macro avg       0.95      0.93      0.94      1970\n",
      "weighted avg       0.97      0.97      0.97      1970\n",
      "\n",
      "ROC-AUC Score : 0.9326042604420248\n",
      "<sklearn.metrics._plot.roc_curve.RocCurveDisplay object at 0x000001FE8451A9D0>\n"
     ]
    },
    {
     "data": {
      "image/png": "[encoded data removed]",
      "text/plain": [
       "<Figure size 432x288 with 1 Axes>"
      ]
     },
     "metadata": {
      "needs_background": "light"
     },
     "output_type": "display_data"
    }
   ],
   "source": [
    "\n",
    "from lightgbm import LGBMClassifier\n",
    "lgb = LGBMClassifier()\n",
    "lgb.fit(x_train,y_train)\n",
    "score(lgb)"
   ]
  },
  {
   "cell_type": "markdown",
   "metadata": {},
   "source": [
    "# Hyper parameter Tuning using RandomizedSearchCV"
   ]
  },
  {
   "cell_type": "code",
   "execution_count": 54,
   "metadata": {},
   "outputs": [],
   "source": [
    "# Helper function to perform hyper parameter tunning with RandomizedSearchCV\n",
    "from sklearn.model_selection import RandomizedSearchCV,KFold,RepeatedKFold,RepeatedStratifiedKFold\n",
    "def randomcv(model,params):\n",
    "# Random search of parameters, using 3 fold cross validation,\n",
    "    cv = RepeatedStratifiedKFold(n_splits=5, n_repeats=3, random_state=1)\n",
    "    gs1 = RandomizedSearchCV(model, params,n_iter = 2, cv = cv, n_jobs = 6,verbose = 2, random_state = 42)\n",
    "# search across 100 different combinations, and use all available cores\n",
    "    gs1.fit(x_train,y_train)  \n",
    "# print best parameters\n",
    "    print(gs1.best_estimator_)"
   ]
  },
  {
   "cell_type": "markdown",
   "metadata": {},
   "source": [
    "# Logistic Regression"
   ]
  },
  {
   "cell_type": "code",
   "execution_count": 55,
   "metadata": {},
   "outputs": [
    {
     "name": "stdout",
     "output_type": "stream",
     "text": [
      "Fitting 15 folds for each of 2 candidates, totalling 30 fits\n"
     ]
    },
    {
     "name": "stderr",
     "output_type": "stream",
     "text": [
      "[Parallel(n_jobs=6)]: Using backend LokyBackend with 6 concurrent workers.\n",
      "[Parallel(n_jobs=6)]: Done  30 out of  30 | elapsed:    7.5s finished\n"
     ]
    },
    {
     "name": "stdout",
     "output_type": "stream",
     "text": [
      "LogisticRegression(C=0.0001, solver='liblinear')\n",
      "Wall time: 7.85 s\n"
     ]
    }
   ],
   "source": [
    "%%time\n",
    "from scipy.stats import loguniform\n",
    "# create logistic regressor parameters dict for tunning\n",
    "lg_param_grid = {\n",
    "    'solver': ['liblinear'],\n",
    "    'penalty': ['l1', 'l2'],\n",
    "    'C': [1e-4, 1e-3, 1e-2, 1e-1, 1e0, 1e1, 1e2, 1e3, 1e4]\n",
    "}\n",
    "\n",
    "# passing data for hyper parameter tunning with Randomized search cv\n",
    "randomcv(lr,lg_param_grid)"
   ]
  },
  {
   "cell_type": "code",
   "execution_count": 56,
   "metadata": {},
   "outputs": [
    {
     "name": "stdout",
     "output_type": "stream",
     "text": [
      "              precision    recall  f1-score   support\n",
      "\n",
      "           0       0.95      0.99      0.97      1569\n",
      "           1       0.93      0.78      0.85       401\n",
      "\n",
      "    accuracy                           0.94      1970\n",
      "   macro avg       0.94      0.88      0.91      1970\n",
      "weighted avg       0.94      0.94      0.94      1970\n",
      "\n",
      "ROC-AUC Score : 0.8807697137017241\n",
      "<sklearn.metrics._plot.roc_curve.RocCurveDisplay object at 0x000001FE88934550>\n"
     ]
    },
    {
     "data": {
      "image/png": "[encoded data removed]",
      "text/plain": [
       "<Figure size 432x288 with 1 Axes>"
      ]
     },
     "metadata": {
      "needs_background": "light"
     },
     "output_type": "display_data"
    }
   ],
   "source": [
    "lr1 = LogisticRegression(C=0.0001, solver='liblinear')\n",
    "lr1.fit(x_train,y_train)\n",
    "score(lr1)"
   ]
  },
  {
   "cell_type": "markdown",
   "metadata": {},
   "source": [
    "# KNN"
   ]
  },
  {
   "cell_type": "code",
   "execution_count": 57,
   "metadata": {},
   "outputs": [
    {
     "name": "stdout",
     "output_type": "stream",
     "text": [
      "Fitting 15 folds for each of 2 candidates, totalling 30 fits\n"
     ]
    },
    {
     "name": "stderr",
     "output_type": "stream",
     "text": [
      "[Parallel(n_jobs=6)]: Using backend LokyBackend with 6 concurrent workers.\n",
      "[Parallel(n_jobs=6)]: Done  30 out of  30 | elapsed:    9.5s finished\n"
     ]
    },
    {
     "name": "stdout",
     "output_type": "stream",
     "text": [
      "KNeighborsClassifier(leaf_size=80, n_neighbors=77)\n"
     ]
    }
   ],
   "source": [
    "# create KNN classifier parameters dict for tunning\n",
    "knn_param = {\n",
    "    'leaf_size': [x for x in range(1,100)],\n",
    "    'n_neighbors': [x for x in range(1,100)],\n",
    "    'p': [1,2]\n",
    "}\n",
    "# passing data for hyper parameter tunning with Randomized search cv\n",
    "randomcv(knn,knn_param)"
   ]
  },
  {
   "cell_type": "code",
   "execution_count": 58,
   "metadata": {},
   "outputs": [
    {
     "name": "stdout",
     "output_type": "stream",
     "text": [
      "              precision    recall  f1-score   support\n",
      "\n",
      "           0       0.99      0.95      0.97      1708\n",
      "           1       0.74      0.94      0.82       262\n",
      "\n",
      "    accuracy                           0.95      1970\n",
      "   macro avg       0.86      0.94      0.90      1970\n",
      "weighted avg       0.96      0.95      0.95      1970\n",
      "\n",
      "ROC-AUC Score : 0.941796127786617\n",
      "<sklearn.metrics._plot.roc_curve.RocCurveDisplay object at 0x000001FE8895F5E0>\n"
     ]
    },
    {
     "data": {
      "image/png": "[encoded data removed]",
      "text/plain": [
       "<Figure size 432x288 with 1 Axes>"
      ]
     },
     "metadata": {
      "needs_background": "light"
     },
     "output_type": "display_data"
    }
   ],
   "source": [
    "knn1 = KNeighborsClassifier(leaf_size=80, n_neighbors=77)\n",
    "knn1.fit(x_train,y_train)\n",
    "score(knn1)"
   ]
  },
  {
   "cell_type": "markdown",
   "metadata": {},
   "source": [
    "# Decision Tree"
   ]
  },
  {
   "cell_type": "code",
   "execution_count": 59,
   "metadata": {},
   "outputs": [
    {
     "name": "stdout",
     "output_type": "stream",
     "text": [
      "Fitting 15 folds for each of 2 candidates, totalling 30 fits\n"
     ]
    },
    {
     "name": "stderr",
     "output_type": "stream",
     "text": [
      "[Parallel(n_jobs=6)]: Using backend LokyBackend with 6 concurrent workers.\n",
      "[Parallel(n_jobs=6)]: Done  30 out of  30 | elapsed:    0.6s finished\n"
     ]
    },
    {
     "name": "stdout",
     "output_type": "stream",
     "text": [
      "DecisionTreeClassifier(max_depth=9, max_features=18, min_samples_leaf=34,\n",
      "                       min_samples_split=200)\n"
     ]
    }
   ],
   "source": [
    "# create DecisionTree classifier parameters dict for tunning\n",
    "dt_param = {'max_depth':range(5,16,2), \n",
    "               'min_samples_split':range(200,1001,200),\n",
    "               'min_samples_leaf': [x for x in range(1,50)],\n",
    "               \n",
    "               'max_features':range(0,20,2)\n",
    "              }\n",
    "\n",
    "# passing data for hyper parameter tunning with Randomized search cv\n",
    "randomcv(dt,dt_param)"
   ]
  },
  {
   "cell_type": "code",
   "execution_count": 60,
   "metadata": {},
   "outputs": [
    {
     "name": "stdout",
     "output_type": "stream",
     "text": [
      "              precision    recall  f1-score   support\n",
      "\n",
      "           0       0.97      0.96      0.96      1659\n",
      "           1       0.79      0.84      0.81       311\n",
      "\n",
      "    accuracy                           0.94      1970\n",
      "   macro avg       0.88      0.90      0.89      1970\n",
      "weighted avg       0.94      0.94      0.94      1970\n",
      "\n",
      "ROC-AUC Score : 0.8998234321609306\n",
      "<sklearn.metrics._plot.roc_curve.RocCurveDisplay object at 0x000001FEFB59DD00>\n"
     ]
    },
    {
     "data": {
      "image/png": "[encoded data removed]",
      "text/plain": [
       "<Figure size 432x288 with 1 Axes>"
      ]
     },
     "metadata": {
      "needs_background": "light"
     },
     "output_type": "display_data"
    }
   ],
   "source": [
    "dt1 = DecisionTreeClassifier(max_depth=9, max_features=18, min_samples_leaf=34,\n",
    "                       min_samples_split=200)\n",
    "dt1.fit(x_train,y_train)\n",
    "score(dt1)"
   ]
  },
  {
   "cell_type": "markdown",
   "metadata": {},
   "source": [
    "# Random Forest"
   ]
  },
  {
   "cell_type": "code",
   "execution_count": 61,
   "metadata": {},
   "outputs": [
    {
     "name": "stdout",
     "output_type": "stream",
     "text": [
      "Fitting 15 folds for each of 2 candidates, totalling 30 fits\n"
     ]
    },
    {
     "name": "stderr",
     "output_type": "stream",
     "text": [
      "[Parallel(n_jobs=6)]: Using backend LokyBackend with 6 concurrent workers.\n",
      "[Parallel(n_jobs=6)]: Done  30 out of  30 | elapsed:   20.3s finished\n"
     ]
    },
    {
     "name": "stdout",
     "output_type": "stream",
     "text": [
      "RandomForestClassifier(max_depth=23, max_features='sqrt', min_samples_leaf=34,\n",
      "                       min_samples_split=43, n_estimators=36)\n"
     ]
    }
   ],
   "source": [
    "# create RandomForest classifier parameters dict for tunning\n",
    "rf_param_grid = {\n",
    "    'max_depth' : [x for x in range(1,50)],\n",
    "    'min_samples_split': [x for x in range(1,50)],\n",
    "    'min_samples_leaf': [x for x in range(1,50)],\n",
    "    'n_estimators': [x for x in range(1,100)],\n",
    "    'max_features': ['sqrt', 'log2',None,'auto']\n",
    "}\n",
    "\n",
    "# passing data for hyper parameter tunning with Randomized search cv\n",
    "randomcv(rf,rf_param_grid)"
   ]
  },
  {
   "cell_type": "code",
   "execution_count": 62,
   "metadata": {},
   "outputs": [
    {
     "name": "stdout",
     "output_type": "stream",
     "text": [
      "              precision    recall  f1-score   support\n",
      "\n",
      "           0       0.96      0.98      0.97      1607\n",
      "           1       0.90      0.83      0.86       363\n",
      "\n",
      "    accuracy                           0.95      1970\n",
      "   macro avg       0.93      0.90      0.92      1970\n",
      "weighted avg       0.95      0.95      0.95      1970\n",
      "\n",
      "ROC-AUC Score : 0.904644110391692\n",
      "<sklearn.metrics._plot.roc_curve.RocCurveDisplay object at 0x000001FE896A0E50>\n"
     ]
    },
    {
     "data": {
      "image/png": "[encoded data removed]",
      "text/plain": [
       "<Figure size 432x288 with 1 Axes>"
      ]
     },
     "metadata": {
      "needs_background": "light"
     },
     "output_type": "display_data"
    }
   ],
   "source": [
    "rf1 = RandomForestClassifier(max_depth=23, max_features='sqrt', min_samples_leaf=34,\n",
    "                       min_samples_split=43, n_estimators=36)\n",
    "rf1.fit(x_train,y_train)\n",
    "score(rf1)"
   ]
  },
  {
   "cell_type": "markdown",
   "metadata": {},
   "source": [
    "# XGB"
   ]
  },
  {
   "cell_type": "code",
   "execution_count": 63,
   "metadata": {},
   "outputs": [
    {
     "name": "stdout",
     "output_type": "stream",
     "text": [
      "Fitting 15 folds for each of 2 candidates, totalling 30 fits\n"
     ]
    },
    {
     "name": "stderr",
     "output_type": "stream",
     "text": [
      "[Parallel(n_jobs=6)]: Using backend LokyBackend with 6 concurrent workers.\n",
      "[Parallel(n_jobs=6)]: Done  30 out of  30 | elapsed:  1.1min finished\n"
     ]
    },
    {
     "name": "stdout",
     "output_type": "stream",
     "text": [
      "[22:51:27] WARNING: C:/Users/Administrator/workspace/xgboost-win64_release_1.4.0/src/learner.cc:1095: Starting in XGBoost 1.3.0, the default evaluation metric used with the objective 'binary:logistic' was changed from 'error' to 'logloss'. Explicitly set eval_metric if you'd like to restore the old behavior.\n",
      "XGBClassifier(base_score=0.5, booster='gbtree', colsample_bylevel=1,\n",
      "              colsample_bynode=1, colsample_bytree=1, gamma=0, gpu_id=-1,\n",
      "              importance_type='gain', interaction_constraints='',\n",
      "              learning_rate=0.300000012, max_delta_step=0, max_depth=15,\n",
      "              min_child_weight=1, missing=nan, monotone_constraints='()',\n",
      "              n_estimators=90, n_jobs=4, num_parallel_tree=1, random_state=0,\n",
      "              reg_alpha=0, reg_lambda=1, scale_pos_weight=1, subsample=0.8,\n",
      "              tree_method='exact', validate_parameters=1, verbosity=None)\n",
      "Wall time: 1min 14s\n"
     ]
    }
   ],
   "source": [
    "%%time\n",
    "# create GradientBoost classifier parameters dict for tunning\n",
    "gb_param = {'max_depth':range(5,16,2), \n",
    "               'n_estimators': [x for x in range(1,100)],\n",
    "               'subsample':[0.6,0.7,0.75,0.8,0.85,0.9]\n",
    "              }\n",
    "\n",
    "# passing data for hyper parameter tunning with Randomized search cv\n",
    "randomcv(xgb,gb_param)"
   ]
  },
  {
   "cell_type": "code",
   "execution_count": 64,
   "metadata": {},
   "outputs": [
    {
     "name": "stdout",
     "output_type": "stream",
     "text": [
      "[22:51:34] WARNING: C:/Users/Administrator/workspace/xgboost-win64_release_1.4.0/src/learner.cc:1095: Starting in XGBoost 1.3.0, the default evaluation metric used with the objective 'binary:logistic' was changed from 'error' to 'logloss'. Explicitly set eval_metric if you'd like to restore the old behavior.\n",
      "              precision    recall  f1-score   support\n",
      "\n",
      "           0       0.97      0.98      0.98      1625\n",
      "           1       0.90      0.87      0.89       345\n",
      "\n",
      "    accuracy                           0.96      1970\n",
      "   macro avg       0.94      0.93      0.93      1970\n",
      "weighted avg       0.96      0.96      0.96      1970\n",
      "\n",
      "ROC-AUC Score : 0.9263857302118172\n",
      "<sklearn.metrics._plot.roc_curve.RocCurveDisplay object at 0x000001FE89711760>\n"
     ]
    },
    {
     "data": {
      "image/png": "[encoded data removed]",
      "text/plain": [
       "<Figure size 432x288 with 1 Axes>"
      ]
     },
     "metadata": {
      "needs_background": "light"
     },
     "output_type": "display_data"
    }
   ],
   "source": [
    "xgb1 = XGBClassifier(base_score=0.5, booster='gbtree', colsample_bylevel=1,\n",
    "              colsample_bynode=1, colsample_bytree=1, gamma=0, gpu_id=-1,\n",
    "              importance_type='gain', interaction_constraints='',\n",
    "              learning_rate=0.300000012, max_delta_step=0, max_depth=15,\n",
    "              min_child_weight=1, monotone_constraints='()',\n",
    "              n_estimators=90, n_jobs=4, num_parallel_tree=1, random_state=0,\n",
    "              reg_alpha=0, reg_lambda=1, scale_pos_weight=1, subsample=0.8,\n",
    "              tree_method='exact', validate_parameters=1, verbosity=None)\n",
    "xgb1.fit(x_train,y_train)\n",
    "score(xgb1)"
   ]
  },
  {
   "cell_type": "markdown",
   "metadata": {},
   "source": [
    "# Conclusion"
   ]
  },
  {
   "cell_type": "markdown",
   "metadata": {},
   "source": [
    "SVM has given a better Accuracy of 97% and better F1 score,ROC AUC score as well"
   ]
  },
  {
   "cell_type": "code",
   "execution_count": 65,
   "metadata": {},
   "outputs": [],
   "source": [
    "import pickle\n",
    "pickle.dump(clf,open('svm_model.pkl','wb'))"
   ]
  },
  {
   "cell_type": "code",
   "execution_count": 66,
   "metadata": {},
   "outputs": [],
   "source": [
    "pickle.dump(scaler,open('scalar.pkl','wb'))"
   ]
  },
  {
   "cell_type": "code",
   "execution_count": 67,
   "metadata": {},
   "outputs": [],
   "source": [
    "pickle.dump(pca,open('pca.pkl','wb'))"
   ]
  },
  {
   "cell_type": "code",
   "execution_count": null,
   "metadata": {},
   "outputs": [],
   "source": []
  }
 ],
 "metadata": {
  "kernelspec": {
   "display_name": "Python 3",
   "language": "python",
   "name": "python3"
  },
  "language_info": {
   "codemirror_mode": {
    "name": "ipython",
    "version": 3
   },
   "file_extension": ".py",
   "mimetype": "text/x-python",
   "name": "python",
   "nbconvert_exporter": "python",
   "pygments_lexer": "ipython3",
   "version": "3.8.5"
  }
 },
 "nbformat": 4,
 "nbformat_minor": 4
}
